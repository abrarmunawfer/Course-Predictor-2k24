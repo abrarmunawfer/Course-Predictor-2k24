{
 "cells": [
  {
   "cell_type": "code",
   "execution_count": 1,
   "id": "2d35cbb5-a621-4704-b913-0a2ee164cb96",
   "metadata": {},
   "outputs": [
    {
     "name": "stdout",
     "output_type": "stream",
     "text": [
      "Requirement already satisfied: numpy in c:\\users\\abrar\\desktop\\course predictor\\model\\env\\lib\\site-packages (1.25.2)\n",
      "Requirement already satisfied: pandas in c:\\users\\abrar\\desktop\\course predictor\\model\\env\\lib\\site-packages (2.0.3)\n",
      "Requirement already satisfied: python-dateutil>=2.8.2 in c:\\users\\abrar\\desktop\\course predictor\\model\\env\\lib\\site-packages (from pandas) (2.8.2)\n",
      "Requirement already satisfied: pytz>=2020.1 in c:\\users\\abrar\\desktop\\course predictor\\model\\env\\lib\\site-packages (from pandas) (2023.3)\n",
      "Requirement already satisfied: tzdata>=2022.1 in c:\\users\\abrar\\desktop\\course predictor\\model\\env\\lib\\site-packages (from pandas) (2023.3)\n",
      "Requirement already satisfied: numpy>=1.21.0 in c:\\users\\abrar\\desktop\\course predictor\\model\\env\\lib\\site-packages (from pandas) (1.25.2)\n",
      "Requirement already satisfied: six>=1.5 in c:\\users\\abrar\\desktop\\course predictor\\model\\env\\lib\\site-packages (from python-dateutil>=2.8.2->pandas) (1.16.0)\n"
     ]
    }
   ],
   "source": [
    "!pip install numpy\n",
    "!pip install pandas"
   ]
  },
  {
   "cell_type": "code",
   "execution_count": 2,
   "id": "6d3e7723-334f-4dbc-8b27-3cfa0fbe442b",
   "metadata": {},
   "outputs": [],
   "source": [
    "import pandas as pd\n",
    "import numpy as np"
   ]
  },
  {
   "cell_type": "code",
   "execution_count": 3,
   "id": "7e5903f0-25b8-4440-a48e-16ea36ff3866",
   "metadata": {},
   "outputs": [
    {
     "data": {
      "text/html": [
       "<div>\n",
       "<style scoped>\n",
       "    .dataframe tbody tr th:only-of-type {\n",
       "        vertical-align: middle;\n",
       "    }\n",
       "\n",
       "    .dataframe tbody tr th {\n",
       "        vertical-align: top;\n",
       "    }\n",
       "\n",
       "    .dataframe thead th {\n",
       "        text-align: right;\n",
       "    }\n",
       "</style>\n",
       "<table border=\"1\" class=\"dataframe\">\n",
       "  <thead>\n",
       "    <tr style=\"text-align: right;\">\n",
       "      <th></th>\n",
       "      <th>title</th>\n",
       "      <th>course</th>\n",
       "      <th>specializations</th>\n",
       "      <th>professional certificates</th>\n",
       "      <th>guided project</th>\n",
       "      <th>none</th>\n",
       "      <th>OL Passes 0</th>\n",
       "      <th>OL Passes 5</th>\n",
       "      <th>OL Passes 9</th>\n",
       "      <th>AL Passes 0</th>\n",
       "      <th>...</th>\n",
       "      <th>category_Machine Learning</th>\n",
       "      <th>category_Math and Logic</th>\n",
       "      <th>category_Networking</th>\n",
       "      <th>category_Physics and Astronomy</th>\n",
       "      <th>category_Support and Operations</th>\n",
       "      <th>category_other_category</th>\n",
       "      <th>level_Advanced Level</th>\n",
       "      <th>level_Beginner Level</th>\n",
       "      <th>level_Intermediate Level</th>\n",
       "      <th>level_None</th>\n",
       "    </tr>\n",
       "  </thead>\n",
       "  <tbody>\n",
       "    <tr>\n",
       "      <th>0</th>\n",
       "      <td>1</td>\n",
       "      <td>0</td>\n",
       "      <td>1</td>\n",
       "      <td>0</td>\n",
       "      <td>0</td>\n",
       "      <td>0</td>\n",
       "      <td>0</td>\n",
       "      <td>0</td>\n",
       "      <td>1</td>\n",
       "      <td>0</td>\n",
       "      <td>...</td>\n",
       "      <td>0</td>\n",
       "      <td>0</td>\n",
       "      <td>1</td>\n",
       "      <td>0</td>\n",
       "      <td>0</td>\n",
       "      <td>0</td>\n",
       "      <td>0</td>\n",
       "      <td>0</td>\n",
       "      <td>1</td>\n",
       "      <td>0</td>\n",
       "    </tr>\n",
       "    <tr>\n",
       "      <th>1</th>\n",
       "      <td>2</td>\n",
       "      <td>1</td>\n",
       "      <td>0</td>\n",
       "      <td>0</td>\n",
       "      <td>0</td>\n",
       "      <td>0</td>\n",
       "      <td>1</td>\n",
       "      <td>0</td>\n",
       "      <td>0</td>\n",
       "      <td>1</td>\n",
       "      <td>...</td>\n",
       "      <td>0</td>\n",
       "      <td>0</td>\n",
       "      <td>0</td>\n",
       "      <td>0</td>\n",
       "      <td>0</td>\n",
       "      <td>0</td>\n",
       "      <td>0</td>\n",
       "      <td>0</td>\n",
       "      <td>0</td>\n",
       "      <td>1</td>\n",
       "    </tr>\n",
       "    <tr>\n",
       "      <th>2</th>\n",
       "      <td>3</td>\n",
       "      <td>1</td>\n",
       "      <td>0</td>\n",
       "      <td>0</td>\n",
       "      <td>0</td>\n",
       "      <td>0</td>\n",
       "      <td>0</td>\n",
       "      <td>0</td>\n",
       "      <td>1</td>\n",
       "      <td>0</td>\n",
       "      <td>...</td>\n",
       "      <td>0</td>\n",
       "      <td>0</td>\n",
       "      <td>0</td>\n",
       "      <td>0</td>\n",
       "      <td>0</td>\n",
       "      <td>0</td>\n",
       "      <td>0</td>\n",
       "      <td>0</td>\n",
       "      <td>1</td>\n",
       "      <td>0</td>\n",
       "    </tr>\n",
       "    <tr>\n",
       "      <th>3</th>\n",
       "      <td>4</td>\n",
       "      <td>1</td>\n",
       "      <td>0</td>\n",
       "      <td>0</td>\n",
       "      <td>0</td>\n",
       "      <td>0</td>\n",
       "      <td>0</td>\n",
       "      <td>0</td>\n",
       "      <td>1</td>\n",
       "      <td>0</td>\n",
       "      <td>...</td>\n",
       "      <td>0</td>\n",
       "      <td>0</td>\n",
       "      <td>0</td>\n",
       "      <td>0</td>\n",
       "      <td>0</td>\n",
       "      <td>0</td>\n",
       "      <td>0</td>\n",
       "      <td>1</td>\n",
       "      <td>0</td>\n",
       "      <td>0</td>\n",
       "    </tr>\n",
       "    <tr>\n",
       "      <th>4</th>\n",
       "      <td>5</td>\n",
       "      <td>1</td>\n",
       "      <td>0</td>\n",
       "      <td>0</td>\n",
       "      <td>0</td>\n",
       "      <td>0</td>\n",
       "      <td>0</td>\n",
       "      <td>0</td>\n",
       "      <td>1</td>\n",
       "      <td>0</td>\n",
       "      <td>...</td>\n",
       "      <td>0</td>\n",
       "      <td>0</td>\n",
       "      <td>0</td>\n",
       "      <td>0</td>\n",
       "      <td>0</td>\n",
       "      <td>1</td>\n",
       "      <td>0</td>\n",
       "      <td>0</td>\n",
       "      <td>1</td>\n",
       "      <td>0</td>\n",
       "    </tr>\n",
       "  </tbody>\n",
       "</table>\n",
       "<p>5 rows × 28 columns</p>\n",
       "</div>"
      ],
      "text/plain": [
       "   title  course  specializations  professional certificates  guided project  \\\n",
       "0      1       0                1                          0               0   \n",
       "1      2       1                0                          0               0   \n",
       "2      3       1                0                          0               0   \n",
       "3      4       1                0                          0               0   \n",
       "4      5       1                0                          0               0   \n",
       "\n",
       "   none  OL Passes 0  OL Passes 5  OL Passes 9  AL Passes 0  ...  \\\n",
       "0     0            0            0            1            0  ...   \n",
       "1     0            1            0            0            1  ...   \n",
       "2     0            0            0            1            0  ...   \n",
       "3     0            0            0            1            0  ...   \n",
       "4     0            0            0            1            0  ...   \n",
       "\n",
       "   category_Machine Learning  category_Math and Logic  category_Networking  \\\n",
       "0                          0                        0                    1   \n",
       "1                          0                        0                    0   \n",
       "2                          0                        0                    0   \n",
       "3                          0                        0                    0   \n",
       "4                          0                        0                    0   \n",
       "\n",
       "   category_Physics and Astronomy  category_Support and Operations  \\\n",
       "0                               0                                0   \n",
       "1                               0                                0   \n",
       "2                               0                                0   \n",
       "3                               0                                0   \n",
       "4                               0                                0   \n",
       "\n",
       "   category_other_category  level_Advanced Level  level_Beginner Level  \\\n",
       "0                        0                     0                     0   \n",
       "1                        0                     0                     0   \n",
       "2                        0                     0                     0   \n",
       "3                        0                     0                     1   \n",
       "4                        1                     0                     0   \n",
       "\n",
       "   level_Intermediate Level  level_None  \n",
       "0                         1           0  \n",
       "1                         0           1  \n",
       "2                         1           0  \n",
       "3                         0           0  \n",
       "4                         1           0  \n",
       "\n",
       "[5 rows x 28 columns]"
      ]
     },
     "execution_count": 3,
     "metadata": {},
     "output_type": "execute_result"
    }
   ],
   "source": [
    "df = pd.read_csv('coursera.csv')\n",
    "df.head()"
   ]
  },
  {
   "cell_type": "code",
   "execution_count": 4,
   "id": "8aba4f65-f1a7-4495-b74a-ed9c826671fb",
   "metadata": {},
   "outputs": [],
   "source": [
    "df = pd.get_dummies(df)"
   ]
  },
  {
   "cell_type": "code",
   "execution_count": 5,
   "id": "a93f8691-d2bf-4bb8-8537-f159ff162e9c",
   "metadata": {},
   "outputs": [
    {
     "data": {
      "text/html": [
       "<div>\n",
       "<style scoped>\n",
       "    .dataframe tbody tr th:only-of-type {\n",
       "        vertical-align: middle;\n",
       "    }\n",
       "\n",
       "    .dataframe tbody tr th {\n",
       "        vertical-align: top;\n",
       "    }\n",
       "\n",
       "    .dataframe thead th {\n",
       "        text-align: right;\n",
       "    }\n",
       "</style>\n",
       "<table border=\"1\" class=\"dataframe\">\n",
       "  <thead>\n",
       "    <tr style=\"text-align: right;\">\n",
       "      <th></th>\n",
       "      <th>title</th>\n",
       "      <th>course</th>\n",
       "      <th>specializations</th>\n",
       "      <th>professional certificates</th>\n",
       "      <th>guided project</th>\n",
       "      <th>none</th>\n",
       "      <th>OL Passes 0</th>\n",
       "      <th>OL Passes 5</th>\n",
       "      <th>OL Passes 9</th>\n",
       "      <th>AL Passes 0</th>\n",
       "      <th>...</th>\n",
       "      <th>category_Machine Learning</th>\n",
       "      <th>category_Math and Logic</th>\n",
       "      <th>category_Networking</th>\n",
       "      <th>category_Physics and Astronomy</th>\n",
       "      <th>category_Support and Operations</th>\n",
       "      <th>category_other_category</th>\n",
       "      <th>level_Advanced Level</th>\n",
       "      <th>level_Beginner Level</th>\n",
       "      <th>level_Intermediate Level</th>\n",
       "      <th>level_None</th>\n",
       "    </tr>\n",
       "  </thead>\n",
       "  <tbody>\n",
       "    <tr>\n",
       "      <th>0</th>\n",
       "      <td>1</td>\n",
       "      <td>0</td>\n",
       "      <td>1</td>\n",
       "      <td>0</td>\n",
       "      <td>0</td>\n",
       "      <td>0</td>\n",
       "      <td>0</td>\n",
       "      <td>0</td>\n",
       "      <td>1</td>\n",
       "      <td>0</td>\n",
       "      <td>...</td>\n",
       "      <td>0</td>\n",
       "      <td>0</td>\n",
       "      <td>1</td>\n",
       "      <td>0</td>\n",
       "      <td>0</td>\n",
       "      <td>0</td>\n",
       "      <td>0</td>\n",
       "      <td>0</td>\n",
       "      <td>1</td>\n",
       "      <td>0</td>\n",
       "    </tr>\n",
       "    <tr>\n",
       "      <th>1</th>\n",
       "      <td>2</td>\n",
       "      <td>1</td>\n",
       "      <td>0</td>\n",
       "      <td>0</td>\n",
       "      <td>0</td>\n",
       "      <td>0</td>\n",
       "      <td>1</td>\n",
       "      <td>0</td>\n",
       "      <td>0</td>\n",
       "      <td>1</td>\n",
       "      <td>...</td>\n",
       "      <td>0</td>\n",
       "      <td>0</td>\n",
       "      <td>0</td>\n",
       "      <td>0</td>\n",
       "      <td>0</td>\n",
       "      <td>0</td>\n",
       "      <td>0</td>\n",
       "      <td>0</td>\n",
       "      <td>0</td>\n",
       "      <td>1</td>\n",
       "    </tr>\n",
       "  </tbody>\n",
       "</table>\n",
       "<p>2 rows × 28 columns</p>\n",
       "</div>"
      ],
      "text/plain": [
       "   title  course  specializations  professional certificates  guided project  \\\n",
       "0      1       0                1                          0               0   \n",
       "1      2       1                0                          0               0   \n",
       "\n",
       "   none  OL Passes 0  OL Passes 5  OL Passes 9  AL Passes 0  ...  \\\n",
       "0     0            0            0            1            0  ...   \n",
       "1     0            1            0            0            1  ...   \n",
       "\n",
       "   category_Machine Learning  category_Math and Logic  category_Networking  \\\n",
       "0                          0                        0                    1   \n",
       "1                          0                        0                    0   \n",
       "\n",
       "   category_Physics and Astronomy  category_Support and Operations  \\\n",
       "0                               0                                0   \n",
       "1                               0                                0   \n",
       "\n",
       "   category_other_category  level_Advanced Level  level_Beginner Level  \\\n",
       "0                        0                     0                     0   \n",
       "1                        0                     0                     0   \n",
       "\n",
       "   level_Intermediate Level  level_None  \n",
       "0                         1           0  \n",
       "1                         0           1  \n",
       "\n",
       "[2 rows x 28 columns]"
      ]
     },
     "execution_count": 5,
     "metadata": {},
     "output_type": "execute_result"
    }
   ],
   "source": [
    "df.head(2)"
   ]
  },
  {
   "cell_type": "code",
   "execution_count": 7,
   "id": "4b15ac6c-ca8e-412f-8db7-a39924f4fdd1",
   "metadata": {},
   "outputs": [
    {
     "name": "stdout",
     "output_type": "stream",
     "text": [
      "<class 'pandas.core.frame.DataFrame'>\n",
      "RangeIndex: 228 entries, 0 to 227\n",
      "Data columns (total 28 columns):\n",
      " #   Column                                             Non-Null Count  Dtype\n",
      "---  ------                                             --------------  -----\n",
      " 0   title                                              228 non-null    int64\n",
      " 1   course                                             228 non-null    int64\n",
      " 2   specializations                                    228 non-null    int64\n",
      " 3   professional certificates                          228 non-null    int64\n",
      " 4   guided project                                     228 non-null    int64\n",
      " 5   none                                               228 non-null    int64\n",
      " 6   OL Passes 0                                        228 non-null    int64\n",
      " 7   OL Passes 5                                        228 non-null    int64\n",
      " 8   OL Passes 9                                        228 non-null    int64\n",
      " 9   AL Passes 0                                        228 non-null    int64\n",
      " 10  AL Passes 3                                        228 non-null    int64\n",
      " 11  duration                                           228 non-null    int64\n",
      " 12  category_Business Essentials                       228 non-null    int64\n",
      " 13  category_Cloud Computing                           228 non-null    int64\n",
      " 14  category_Computer Security and Networks            228 non-null    int64\n",
      " 15  category_Data Analysis                             228 non-null    int64\n",
      " 16  category_Design and Product                        228 non-null    int64\n",
      " 17  category_Environmental Science and Sustainability  228 non-null    int64\n",
      " 18  category_Machine Learning                          228 non-null    int64\n",
      " 19  category_Math and Logic                            228 non-null    int64\n",
      " 20  category_Networking                                228 non-null    int64\n",
      " 21  category_Physics and Astronomy                     228 non-null    int64\n",
      " 22  category_Support and Operations                    228 non-null    int64\n",
      " 23  category_other_category                            228 non-null    int64\n",
      " 24  level_Advanced Level                               228 non-null    int64\n",
      " 25  level_Beginner Level                               228 non-null    int64\n",
      " 26  level_Intermediate Level                           228 non-null    int64\n",
      " 27  level_None                                         228 non-null    int64\n",
      "dtypes: int64(28)\n",
      "memory usage: 50.0 KB\n"
     ]
    }
   ],
   "source": [
    "df.info()"
   ]
  },
  {
   "cell_type": "code",
   "execution_count": 8,
   "id": "12073118-ed51-445a-bd6a-3a1504150ef0",
   "metadata": {},
   "outputs": [
    {
     "data": {
      "text/plain": [
       "(228, 28)"
      ]
     },
     "execution_count": 8,
     "metadata": {},
     "output_type": "execute_result"
    }
   ],
   "source": [
    "df.shape"
   ]
  },
  {
   "cell_type": "code",
   "execution_count": 9,
   "id": "24c6f301-f8fc-44ba-b6a0-e73e09229754",
   "metadata": {},
   "outputs": [],
   "source": [
    "x = df.drop('title', axis =1)\n",
    "y= df['title']"
   ]
  },
  {
   "cell_type": "code",
   "execution_count": 10,
   "id": "4312abb6-4767-4e76-80f9-5dd4645ced6a",
   "metadata": {},
   "outputs": [
    {
     "name": "stdout",
     "output_type": "stream",
     "text": [
      "Requirement already satisfied: sklearn in c:\\users\\abrar\\desktop\\course predictor\\model\\env\\lib\\site-packages (0.0.post7)\n"
     ]
    }
   ],
   "source": [
    "!pip install sklearn"
   ]
  },
  {
   "cell_type": "code",
   "execution_count": 12,
   "id": "4c7babf3-126c-416d-a0e6-16b45db8e272",
   "metadata": {},
   "outputs": [],
   "source": [
    "from sklearn.model_selection import train_test_split\n",
    "x_train, x_test, y_train, y_test = train_test_split(x, y, test_size=0.2, random_state=42)"
   ]
  },
  {
   "cell_type": "code",
   "execution_count": 13,
   "id": "7f4f38a1-57ef-443c-9d00-d94ae10124e3",
   "metadata": {},
   "outputs": [
    {
     "data": {
      "text/plain": [
       "((182, 27), (46,))"
      ]
     },
     "execution_count": 13,
     "metadata": {},
     "output_type": "execute_result"
    }
   ],
   "source": [
    "x_train.shape, y_test.shape"
   ]
  },
  {
   "cell_type": "code",
   "execution_count": 14,
   "id": "1c6fcdd2-a909-488e-bfae-82eb7ef27b35",
   "metadata": {},
   "outputs": [],
   "source": [
    "def model_acc(model):\n",
    "    model.fit(x_train,y_train)\n",
    "    acc= model.score(x_test,y_test)\n",
    "    print(str(model)+ ' --> ' +str(acc))"
   ]
  },
  {
   "cell_type": "code",
   "execution_count": 18,
   "id": "944d993c-5cf1-4145-9c50-4b397712d339",
   "metadata": {},
   "outputs": [
    {
     "name": "stdout",
     "output_type": "stream",
     "text": [
      "LinearRegression() --> 0.49423246582855485\n",
      "Lasso() --> 0.5000451845047021\n",
      "DecisionTreeRegressor() --> 0.3369303128708909\n",
      "RandomForestRegressor(random_state=42) --> 0.5402059480590107\n"
     ]
    }
   ],
   "source": [
    "from sklearn.linear_model import LinearRegression\n",
    "lr = LinearRegression()\n",
    "model_acc(lr)\n",
    "\n",
    "from sklearn.linear_model import Lasso\n",
    "lasso= Lasso()\n",
    "model_acc(lasso)\n",
    "\n",
    "from sklearn.tree import DecisionTreeRegressor\n",
    "dt = DecisionTreeRegressor()\n",
    "model_acc(dt)\n",
    "\n",
    "from sklearn.ensemble import RandomForestRegressor\n",
    "rf = RandomForestRegressor(random_state=42)\n",
    "model_acc(rf)"
   ]
  },
  {
   "cell_type": "code",
   "execution_count": 22,
   "id": "a3b72ef8-4739-4264-8408-23c76d64b8e8",
   "metadata": {},
   "outputs": [
    {
     "name": "stdout",
     "output_type": "stream",
     "text": [
      "Best Parameters: {'max_depth': 10, 'min_samples_split': 10, 'n_estimators': 100}\n",
      "Mean Squared Error: 1549.15\n"
     ]
    }
   ],
   "source": [
    "from sklearn.model_selection import GridSearchCV\n",
    "from sklearn.metrics import mean_squared_error\n",
    "\n",
    "param_grid = {\n",
    "    'n_estimators': [10, 50, 100],\n",
    "    'max_depth': [None, 10, 20],\n",
    "    'min_samples_split': [2, 5, 10]\n",
    "}\n",
    "\n",
    "grid_search = GridSearchCV(rf, param_grid, cv=5, scoring='neg_mean_squared_error')\n",
    "\n",
    "grid_search.fit(x_train, y_train)\n",
    "\n",
    "best_params = grid_search.best_params_\n",
    "best_estimator = grid_search.best_estimator_\n",
    "\n",
    "y_pred = best_estimator.predict(x_test)\n",
    "\n",
    "mse = mean_squared_error(y_test, y_pred)\n",
    "\n",
    "print(\"Best Parameters:\", best_params)\n",
    "print(f\"Mean Squared Error: {mse:.2f}\")"
   ]
  },
  {
   "cell_type": "code",
   "execution_count": 24,
   "id": "e480d524-d2e2-4017-b72f-d0de610cb792",
   "metadata": {},
   "outputs": [
    {
     "data": {
      "text/plain": [
       "0.6087901617353784"
      ]
     },
     "execution_count": 24,
     "metadata": {},
     "output_type": "execute_result"
    }
   ],
   "source": [
    "best_estimator.score(x_test, y_test)"
   ]
  },
  {
   "cell_type": "code",
   "execution_count": 26,
   "id": "7482905b-079e-4b12-91ba-3523c2fe0e93",
   "metadata": {},
   "outputs": [],
   "source": [
    "import pickle"
   ]
  },
  {
   "cell_type": "code",
   "execution_count": 27,
   "id": "ebf5a391-d2aa-4ba2-b3bb-46db84186c5a",
   "metadata": {},
   "outputs": [],
   "source": [
    "import pickle"
   ]
  },
  {
   "cell_type": "code",
   "execution_count": 28,
   "id": "6279fc88-e611-40f1-858b-b3e661e9b060",
   "metadata": {},
   "outputs": [],
   "source": [
    "with open('predictor.pickle', 'wb') as file:\n",
    "    pickle.dump(best_estimator, file)"
   ]
  },
  {
   "cell_type": "code",
   "execution_count": 29,
   "id": "49d087a1-6ad0-4d87-a014-cf4d5019485a",
   "metadata": {},
   "outputs": [
    {
     "data": {
      "text/plain": [
       "Index(['course', 'specializations', 'professional certificates',\n",
       "       'guided project', 'none', 'OL Passes 0', 'OL Passes 5', 'OL Passes 9',\n",
       "       'AL Passes 0', 'AL Passes 3', 'duration',\n",
       "       'category_Business Essentials', 'category_Cloud Computing',\n",
       "       'category_Computer Security and Networks', 'category_Data Analysis',\n",
       "       'category_Design and Product',\n",
       "       'category_Environmental Science and Sustainability',\n",
       "       'category_Machine Learning', 'category_Math and Logic',\n",
       "       'category_Networking', 'category_Physics and Astronomy',\n",
       "       'category_Support and Operations', 'category_other_category',\n",
       "       'level_Advanced Level', 'level_Beginner Level',\n",
       "       'level_Intermediate Level', 'level_None'],\n",
       "      dtype='object')"
      ]
     },
     "execution_count": 29,
     "metadata": {},
     "output_type": "execute_result"
    }
   ],
   "source": [
    "x_train.columns"
   ]
  },
  {
   "cell_type": "code",
   "execution_count": 32,
   "id": "2953383f-f459-4d08-9a77-1acdd6612dd1",
   "metadata": {},
   "outputs": [
    {
     "name": "stderr",
     "output_type": "stream",
     "text": [
      "C:\\Users\\abrar\\Desktop\\Course Predictor\\model\\env\\lib\\site-packages\\sklearn\\base.py:464: UserWarning: X does not have valid feature names, but RandomForestRegressor was fitted with feature names\n",
      "  warnings.warn(\n"
     ]
    },
    {
     "data": {
      "text/plain": [
       "array([94.73353719])"
      ]
     },
     "execution_count": 32,
     "metadata": {},
     "output_type": "execute_result"
    }
   ],
   "source": [
    "best_estimator.predict([[0,1,0,0,0,0,0,1,0,1,720,0,0,0,0,0,0,0,0,0,0,0,1,0,0,1,0]])"
   ]
  },
  {
   "cell_type": "code",
   "execution_count": null,
   "id": "6dde98bf-a16d-4762-bfcb-275d508a71b7",
   "metadata": {},
   "outputs": [],
   "source": []
  }
 ],
 "metadata": {
  "kernelspec": {
   "display_name": "Python 3 (ipykernel)",
   "language": "python",
   "name": "python3"
  },
  "language_info": {
   "codemirror_mode": {
    "name": "ipython",
    "version": 3
   },
   "file_extension": ".py",
   "mimetype": "text/x-python",
   "name": "python",
   "nbconvert_exporter": "python",
   "pygments_lexer": "ipython3",
   "version": "3.10.6"
  }
 },
 "nbformat": 4,
 "nbformat_minor": 5
}
